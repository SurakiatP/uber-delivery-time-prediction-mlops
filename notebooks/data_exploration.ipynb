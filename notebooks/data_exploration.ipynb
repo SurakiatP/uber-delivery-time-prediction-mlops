{
 "cells": [
  {
   "cell_type": "markdown",
   "id": "c4dee343",
   "metadata": {},
   "source": [
    "# Uber Drives Dataset - Data Exploration & Cleaning\n",
    "\n",
    "In this notebook, we will perform:\n",
    "- Loading Uber Drives raw dataset\n",
    "- Data Exploration (EDA)\n",
    "- Data Cleaning\n",
    "- Basic Feature Engineering\n",
    "- Saving the cleaned dataset for further processing (geocoding, weather enrichment)\n",
    "\n"
   ]
  },
  {
   "cell_type": "markdown",
   "id": "f6b6e962",
   "metadata": {},
   "source": [
    "# --- Import Libraries ---"
   ]
  },
  {
   "cell_type": "code",
   "execution_count": 37,
   "id": "4e750fb2",
   "metadata": {},
   "outputs": [],
   "source": [
    "# - Import essential libraries -\n",
    "import pandas as pd\n",
    "import numpy as np\n",
    "import matplotlib.pyplot as plt\n",
    "import seaborn as sns\n",
    "\n",
    "# - Path setup -\n",
    "RAW_DATA_PATH = '../data/raw/uberdrives.csv'\n",
    "PROCESSED_DATA_PATH = '../data/processed/cleaned_uberdrives.csv'\n"
   ]
  },
  {
   "cell_type": "markdown",
   "id": "3f97db33",
   "metadata": {},
   "source": [
    "# --- Load Dataset ---"
   ]
  },
  {
   "cell_type": "code",
   "execution_count": 38,
   "id": "a8d62961",
   "metadata": {},
   "outputs": [
    {
     "data": {
      "text/html": [
       "<div>\n",
       "<style scoped>\n",
       "    .dataframe tbody tr th:only-of-type {\n",
       "        vertical-align: middle;\n",
       "    }\n",
       "\n",
       "    .dataframe tbody tr th {\n",
       "        vertical-align: top;\n",
       "    }\n",
       "\n",
       "    .dataframe thead th {\n",
       "        text-align: right;\n",
       "    }\n",
       "</style>\n",
       "<table border=\"1\" class=\"dataframe\">\n",
       "  <thead>\n",
       "    <tr style=\"text-align: right;\">\n",
       "      <th></th>\n",
       "      <th>START_DATE*</th>\n",
       "      <th>END_DATE*</th>\n",
       "      <th>CATEGORY*</th>\n",
       "      <th>START*</th>\n",
       "      <th>STOP*</th>\n",
       "      <th>MILES*</th>\n",
       "      <th>PURPOSE*</th>\n",
       "    </tr>\n",
       "  </thead>\n",
       "  <tbody>\n",
       "    <tr>\n",
       "      <th>0</th>\n",
       "      <td>1/1/2016 21:11</td>\n",
       "      <td>1/1/2016 21:17</td>\n",
       "      <td>Business</td>\n",
       "      <td>Fort Pierce</td>\n",
       "      <td>Fort Pierce</td>\n",
       "      <td>5.1</td>\n",
       "      <td>Meal/Entertain</td>\n",
       "    </tr>\n",
       "    <tr>\n",
       "      <th>1</th>\n",
       "      <td>1/2/2016 1:25</td>\n",
       "      <td>1/2/2016 1:37</td>\n",
       "      <td>Business</td>\n",
       "      <td>Fort Pierce</td>\n",
       "      <td>Fort Pierce</td>\n",
       "      <td>5.0</td>\n",
       "      <td>NaN</td>\n",
       "    </tr>\n",
       "    <tr>\n",
       "      <th>2</th>\n",
       "      <td>1/2/2016 20:25</td>\n",
       "      <td>1/2/2016 20:38</td>\n",
       "      <td>Business</td>\n",
       "      <td>Fort Pierce</td>\n",
       "      <td>Fort Pierce</td>\n",
       "      <td>4.8</td>\n",
       "      <td>Errand/Supplies</td>\n",
       "    </tr>\n",
       "    <tr>\n",
       "      <th>3</th>\n",
       "      <td>1/5/2016 17:31</td>\n",
       "      <td>1/5/2016 17:45</td>\n",
       "      <td>Business</td>\n",
       "      <td>Fort Pierce</td>\n",
       "      <td>Fort Pierce</td>\n",
       "      <td>4.7</td>\n",
       "      <td>Meeting</td>\n",
       "    </tr>\n",
       "    <tr>\n",
       "      <th>4</th>\n",
       "      <td>1/6/2016 14:42</td>\n",
       "      <td>1/6/2016 15:49</td>\n",
       "      <td>Business</td>\n",
       "      <td>Fort Pierce</td>\n",
       "      <td>West Palm Beach</td>\n",
       "      <td>63.7</td>\n",
       "      <td>Customer Visit</td>\n",
       "    </tr>\n",
       "  </tbody>\n",
       "</table>\n",
       "</div>"
      ],
      "text/plain": [
       "      START_DATE*       END_DATE* CATEGORY*       START*            STOP*  \\\n",
       "0  1/1/2016 21:11  1/1/2016 21:17  Business  Fort Pierce      Fort Pierce   \n",
       "1   1/2/2016 1:25   1/2/2016 1:37  Business  Fort Pierce      Fort Pierce   \n",
       "2  1/2/2016 20:25  1/2/2016 20:38  Business  Fort Pierce      Fort Pierce   \n",
       "3  1/5/2016 17:31  1/5/2016 17:45  Business  Fort Pierce      Fort Pierce   \n",
       "4  1/6/2016 14:42  1/6/2016 15:49  Business  Fort Pierce  West Palm Beach   \n",
       "\n",
       "   MILES*         PURPOSE*  \n",
       "0     5.1   Meal/Entertain  \n",
       "1     5.0              NaN  \n",
       "2     4.8  Errand/Supplies  \n",
       "3     4.7          Meeting  \n",
       "4    63.7   Customer Visit  "
      ]
     },
     "execution_count": 38,
     "metadata": {},
     "output_type": "execute_result"
    }
   ],
   "source": [
    "# - Load dataset -\n",
    "df = pd.read_csv(RAW_DATA_PATH)\n",
    "\n",
    "# - Preview -\n",
    "df.head()\n"
   ]
  },
  {
   "cell_type": "markdown",
   "id": "17aae37d",
   "metadata": {},
   "source": [
    "## --- Basic Data Overview ---\n",
    "Check dataset shape, column names, and data types.\n"
   ]
  },
  {
   "cell_type": "code",
   "execution_count": 39,
   "id": "c28f8bd7",
   "metadata": {},
   "outputs": [
    {
     "name": "stdout",
     "output_type": "stream",
     "text": [
      "Dataset shape: (1156, 7)\n",
      "<class 'pandas.core.frame.DataFrame'>\n",
      "RangeIndex: 1156 entries, 0 to 1155\n",
      "Data columns (total 7 columns):\n",
      " #   Column      Non-Null Count  Dtype  \n",
      "---  ------      --------------  -----  \n",
      " 0   START_DATE  1156 non-null   object \n",
      " 1   END_DATE    1155 non-null   object \n",
      " 2   CATEGORY    1155 non-null   object \n",
      " 3   START       1155 non-null   object \n",
      " 4   STOP        1155 non-null   object \n",
      " 5   MILES       1156 non-null   float64\n",
      " 6   PURPOSE     653 non-null    object \n",
      "dtypes: float64(1), object(6)\n",
      "memory usage: 63.3+ KB\n"
     ]
    },
    {
     "data": {
      "text/html": [
       "<div>\n",
       "<style scoped>\n",
       "    .dataframe tbody tr th:only-of-type {\n",
       "        vertical-align: middle;\n",
       "    }\n",
       "\n",
       "    .dataframe tbody tr th {\n",
       "        vertical-align: top;\n",
       "    }\n",
       "\n",
       "    .dataframe thead th {\n",
       "        text-align: right;\n",
       "    }\n",
       "</style>\n",
       "<table border=\"1\" class=\"dataframe\">\n",
       "  <thead>\n",
       "    <tr style=\"text-align: right;\">\n",
       "      <th></th>\n",
       "      <th>MILES</th>\n",
       "    </tr>\n",
       "  </thead>\n",
       "  <tbody>\n",
       "    <tr>\n",
       "      <th>count</th>\n",
       "      <td>1156.000000</td>\n",
       "    </tr>\n",
       "    <tr>\n",
       "      <th>mean</th>\n",
       "      <td>21.115398</td>\n",
       "    </tr>\n",
       "    <tr>\n",
       "      <th>std</th>\n",
       "      <td>359.299007</td>\n",
       "    </tr>\n",
       "    <tr>\n",
       "      <th>min</th>\n",
       "      <td>0.500000</td>\n",
       "    </tr>\n",
       "    <tr>\n",
       "      <th>25%</th>\n",
       "      <td>2.900000</td>\n",
       "    </tr>\n",
       "    <tr>\n",
       "      <th>50%</th>\n",
       "      <td>6.000000</td>\n",
       "    </tr>\n",
       "    <tr>\n",
       "      <th>75%</th>\n",
       "      <td>10.400000</td>\n",
       "    </tr>\n",
       "    <tr>\n",
       "      <th>max</th>\n",
       "      <td>12204.700000</td>\n",
       "    </tr>\n",
       "  </tbody>\n",
       "</table>\n",
       "</div>"
      ],
      "text/plain": [
       "              MILES\n",
       "count   1156.000000\n",
       "mean      21.115398\n",
       "std      359.299007\n",
       "min        0.500000\n",
       "25%        2.900000\n",
       "50%        6.000000\n",
       "75%       10.400000\n",
       "max    12204.700000"
      ]
     },
     "execution_count": 39,
     "metadata": {},
     "output_type": "execute_result"
    }
   ],
   "source": [
    "# - Shape of dataset -\n",
    "print(f\"Dataset shape: {df.shape}\")\n",
    "\n",
    "# del * from columns\n",
    "df.columns = df.columns.str.replace('*', '', regex=False)\n",
    "\n",
    "# - Columns and data types -\n",
    "df.info()\n",
    "\n",
    "# - Statistical overview -\n",
    "df.describe()\n"
   ]
  },
  {
   "cell_type": "markdown",
   "id": "07ad4991",
   "metadata": {},
   "source": [
    "## --- Missing Values Check ---\n",
    "Identify columns with missing or null values.\n"
   ]
  },
  {
   "cell_type": "code",
   "execution_count": 40,
   "id": "a64998ae",
   "metadata": {},
   "outputs": [
    {
     "name": "stdout",
     "output_type": "stream",
     "text": [
      "END_DATE      1\n",
      "CATEGORY      1\n",
      "START         1\n",
      "STOP          1\n",
      "PURPOSE     503\n",
      "dtype: int64\n"
     ]
    }
   ],
   "source": [
    "# - Check missing values -\n",
    "missing_values = df.isnull().sum()\n",
    "print(missing_values[missing_values > 0])"
   ]
  },
  {
   "cell_type": "markdown",
   "id": "776bb1fb",
   "metadata": {},
   "source": [
    "## --- Exploring Important Fields ---\n",
    "Understand important columns like `START_DATE`, `END_DATE`, `START`, `STOP`, `MILES`."
   ]
  },
  {
   "cell_type": "code",
   "execution_count": 41,
   "id": "c9fe5676",
   "metadata": {},
   "outputs": [
    {
     "name": "stdout",
     "output_type": "stream",
     "text": [
      "START\n",
      "Cary                201\n",
      "Unknown Location    148\n",
      "Morrisville          85\n",
      "Whitebridge          68\n",
      "Islamabad            57\n",
      "Durham               37\n",
      "Lahore               36\n",
      "Raleigh              28\n",
      "Kar?chi              27\n",
      "Westpark Place       17\n",
      "Name: count, dtype: int64\n",
      "PURPOSE\n",
      "Meeting            187\n",
      "Meal/Entertain     160\n",
      "Errand/Supplies    128\n",
      "Customer Visit     101\n",
      "Temporary Site      50\n",
      "Between Offices     18\n",
      "Moving               4\n",
      "Airport/Travel       3\n",
      "Commute              1\n",
      "Charity ($)          1\n",
      "Name: count, dtype: int64\n"
     ]
    }
   ],
   "source": [
    "# - Unique start locations -\n",
    "print(df['START'].value_counts().head(10))\n",
    "\n",
    "# - Unique purposes -\n",
    "if 'PURPOSE' in df.columns:\n",
    "    print(df['PURPOSE'].value_counts())"
   ]
  },
  {
   "cell_type": "markdown",
   "id": "82a87a4b",
   "metadata": {},
   "source": [
    "## --- Data Cleaning ---\n",
    "- Remove rows with missing critical information (`START_DATE`, `START`, `STOP`, `MILES`).\n",
    "- Convert `START_DATE` and `END_DATE` to datetime objects.\n",
    "- Remove outliers (if any obvious, optional).\n"
   ]
  },
  {
   "cell_type": "code",
   "execution_count": 42,
   "id": "89f662a9",
   "metadata": {},
   "outputs": [
    {
     "name": "stderr",
     "output_type": "stream",
     "text": [
      "C:\\Users\\parks\\AppData\\Local\\Temp\\ipykernel_12484\\1334594466.py:6: SettingWithCopyWarning: \n",
      "A value is trying to be set on a copy of a slice from a DataFrame.\n",
      "Try using .loc[row_indexer,col_indexer] = value instead\n",
      "\n",
      "See the caveats in the documentation: https://pandas.pydata.org/pandas-docs/stable/user_guide/indexing.html#returning-a-view-versus-a-copy\n",
      "  df_cleaned['START_DATE'] = pd.to_datetime(df_cleaned['START_DATE'])\n",
      "C:\\Users\\parks\\AppData\\Local\\Temp\\ipykernel_12484\\1334594466.py:7: SettingWithCopyWarning: \n",
      "A value is trying to be set on a copy of a slice from a DataFrame.\n",
      "Try using .loc[row_indexer,col_indexer] = value instead\n",
      "\n",
      "See the caveats in the documentation: https://pandas.pydata.org/pandas-docs/stable/user_guide/indexing.html#returning-a-view-versus-a-copy\n",
      "  df_cleaned['END_DATE'] = pd.to_datetime(df_cleaned['END_DATE'])\n",
      "C:\\Users\\parks\\AppData\\Local\\Temp\\ipykernel_12484\\1334594466.py:10: SettingWithCopyWarning: \n",
      "A value is trying to be set on a copy of a slice from a DataFrame.\n",
      "Try using .loc[row_indexer,col_indexer] = value instead\n",
      "\n",
      "See the caveats in the documentation: https://pandas.pydata.org/pandas-docs/stable/user_guide/indexing.html#returning-a-view-versus-a-copy\n",
      "  df_cleaned['TRIP_DURATION_MINUTES'] = (df_cleaned['END_DATE'] - df_cleaned['START_DATE']).dt.total_seconds() / 60\n"
     ]
    }
   ],
   "source": [
    "# - Drop rows with missing critical fields -\n",
    "critical_fields = ['START_DATE', 'END_DATE', 'START', 'STOP', 'MILES']\n",
    "df_cleaned = df.dropna(subset=critical_fields)\n",
    "\n",
    "# - Convert START_DATE and END_DATE to datetime -\n",
    "df_cleaned['START_DATE'] = pd.to_datetime(df_cleaned['START_DATE'])\n",
    "df_cleaned['END_DATE'] = pd.to_datetime(df_cleaned['END_DATE'])\n",
    "\n",
    "# - Calculate Trip Duration (in minutes) -\n",
    "df_cleaned['TRIP_DURATION_MINUTES'] = (df_cleaned['END_DATE'] - df_cleaned['START_DATE']).dt.total_seconds() / 60\n",
    "\n",
    "# - Optional: Remove trips with negative or extremely high duration -\n",
    "df_cleaned = df_cleaned[(df_cleaned['TRIP_DURATION_MINUTES'] > 0) & (df_cleaned['TRIP_DURATION_MINUTES'] < 300)]\n"
   ]
  },
  {
   "cell_type": "markdown",
   "id": "1e2d4d92",
   "metadata": {},
   "source": [
    "## --- Visualizing Distributions ---\n",
    "Visualize key features to understand data spread.\n"
   ]
  },
  {
   "cell_type": "code",
   "execution_count": 43,
   "id": "91b228d3",
   "metadata": {},
   "outputs": [
    {
     "data": {
      "image/png": "[encoded data removed]",
      "text/plain": [
       "<Figure size 800x500 with 1 Axes>"
      ]
     },
     "metadata": {},
     "output_type": "display_data"
    },
    {
     "data": {
      "image/png": "[encoded data removed]",
      "text/plain": [
       "<Figure size 800x500 with 1 Axes>"
      ]
     },
     "metadata": {},
     "output_type": "display_data"
    }
   ],
   "source": [
    "# - Distribution of trip durations -\n",
    "plt.figure(figsize=(8,5))\n",
    "sns.histplot(df_cleaned['TRIP_DURATION_MINUTES'], bins=50, kde=True)\n",
    "plt.title('Distribution of Trip Duration (Minutes)')\n",
    "plt.xlabel('Duration (minutes)')\n",
    "plt.ylabel('Frequency')\n",
    "plt.show()\n",
    "\n",
    "# - Distribution of trip distances -\n",
    "plt.figure(figsize=(8,5))\n",
    "sns.histplot(df_cleaned['MILES'], bins=50, kde=True)\n",
    "plt.title('Distribution of Trip Distance (Miles)')\n",
    "plt.xlabel('Distance (miles)')\n",
    "plt.ylabel('Frequency')\n",
    "plt.show()\n"
   ]
  },
  {
   "cell_type": "markdown",
   "id": "07df0e15",
   "metadata": {},
   "source": [
    "## --- Save Cleaned Dataset ---\n",
    "Save the processed file for the next steps (geocoding, weather enrichment).\n"
   ]
  },
  {
   "cell_type": "code",
   "execution_count": 44,
   "id": "d9b8fa6d",
   "metadata": {},
   "outputs": [
    {
     "name": "stdout",
     "output_type": "stream",
     "text": [
      ">>> Cleaned dataset saved at ../data/processed/cleaned_uberdrives.csv\n"
     ]
    }
   ],
   "source": [
    "# - Save to processed folder -\n",
    "df_cleaned.to_csv(PROCESSED_DATA_PATH, index=False)\n",
    "print(f\">>> Cleaned dataset saved at {PROCESSED_DATA_PATH}\")"
   ]
  },
  {
   "cell_type": "markdown",
   "id": "eec33ea4",
   "metadata": {},
   "source": [
    "# -- Summary --\n",
    "\n",
    "- Loaded Uber Drives raw dataset\n",
    "- Performed EDA and identified missing values\n",
    "- Cleaned data and removed invalid trips\n",
    "- Calculated Trip Duration\n",
    "- Saved cleaned dataset for further processing\n",
    "\n",
    "\n",
    "# -- Next Steps: --\n",
    "- Geocoding: Convert START locations to latitude and longitude\n",
    "- Weather Enrichment: Fetch weather conditions using OpenWeatherMap API\n",
    "- Feature Engineering for ML model\n",
    "\n"
   ]
  }
 ],
 "metadata": {
  "kernelspec": {
   "display_name": "venv",
   "language": "python",
   "name": "python3"
  },
  "language_info": {
   "codemirror_mode": {
    "name": "ipython",
    "version": 3
   },
   "file_extension": ".py",
   "mimetype": "text/x-python",
   "name": "python",
   "nbconvert_exporter": "python",
   "pygments_lexer": "ipython3",
   "version": "3.10.11"
  }
 },
 "nbformat": 4,
 "nbformat_minor": 5
}
